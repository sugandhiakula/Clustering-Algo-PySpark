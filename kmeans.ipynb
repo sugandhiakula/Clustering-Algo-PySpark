{
 "cells": [
  {
   "cell_type": "code",
   "execution_count": 1,
   "metadata": {
    "id": "rJHZy5yL2N_b"
   },
   "outputs": [],
   "source": [
    "# Project \n",
    "# Sugandhi Akula\n",
    "# Rushya Puttam"
   ]
  },
  {
   "cell_type": "markdown",
   "metadata": {
    "id": "5Mg5UJcvHmO7"
   },
   "source": [
    "Installing **pySpark** "
   ]
  },
  {
   "cell_type": "code",
   "execution_count": 2,
   "metadata": {
    "colab": {
     "base_uri": "https://localhost:8080/",
     "height": 268
    },
    "id": "-WrE-22d4n79",
    "outputId": "c433006d-cd41-416e-f0c0-a0425b47b276"
   },
   "outputs": [
    {
     "name": "stdout",
     "output_type": "stream",
     "text": [
      "Collecting pyspark\n",
      "\u001b[?25l  Downloading https://files.pythonhosted.org/packages/f0/26/198fc8c0b98580f617cb03cb298c6056587b8f0447e20fa40c5b634ced77/pyspark-3.0.1.tar.gz (204.2MB)\n",
      "\u001b[K     |████████████████████████████████| 204.2MB 73kB/s \n",
      "\u001b[?25hCollecting py4j==0.10.9\n",
      "\u001b[?25l  Downloading https://files.pythonhosted.org/packages/9e/b6/6a4fb90cd235dc8e265a6a2067f2a2c99f0d91787f06aca4bcf7c23f3f80/py4j-0.10.9-py2.py3-none-any.whl (198kB)\n",
      "\u001b[K     |████████████████████████████████| 204kB 45.9MB/s \n",
      "\u001b[?25hBuilding wheels for collected packages: pyspark\n",
      "  Building wheel for pyspark (setup.py) ... \u001b[?25l\u001b[?25hdone\n",
      "  Created wheel for pyspark: filename=pyspark-3.0.1-py2.py3-none-any.whl size=204612243 sha256=df81ea5b6c80411cc7886d4abf0ae41c21f9a5722ba1371826ff9252ce631a41\n",
      "  Stored in directory: /root/.cache/pip/wheels/5e/bd/07/031766ca628adec8435bb40f0bd83bb676ce65ff4007f8e73f\n",
      "Successfully built pyspark\n",
      "Installing collected packages: py4j, pyspark\n",
      "Successfully installed py4j-0.10.9 pyspark-3.0.1\n"
     ]
    }
   ],
   "source": [
    "!pip install pyspark"
   ]
  },
  {
   "cell_type": "markdown",
   "metadata": {
    "id": "7mWK41cvHsjt"
   },
   "source": [
    "**Importing necessary libraries**"
   ]
  },
  {
   "cell_type": "code",
   "execution_count": 3,
   "metadata": {
    "id": "p7xxcm514xit"
   },
   "outputs": [],
   "source": [
    "import sys\n",
    "from pyspark import SparkContext, SparkConf\n",
    "import numpy as np\n",
    "import random\n",
    "import matplotlib.pyplot as plt\n",
    "import seaborn as sns"
   ]
  },
  {
   "cell_type": "code",
   "execution_count": 4,
   "metadata": {
    "id": "XcaeUz-342kv"
   },
   "outputs": [],
   "source": [
    "sc = SparkContext(\"local\",\"PySpark k-means clustering\")"
   ]
  },
  {
   "cell_type": "markdown",
   "metadata": {
    "id": "hvX6bP2kICGX"
   },
   "source": [
    "**Reading the given input file and changing to the format (obsno, array(points of type float))**"
   ]
  },
  {
   "cell_type": "code",
   "execution_count": 6,
   "metadata": {
    "id": "NrVIwf4Y47PI"
   },
   "outputs": [],
   "source": [
    "# 4601 rows and 58 columns\n",
    "file = '/content/drive/XXXXXXXXXXXXXX/data.txt'"
   ]
  },
  {
   "cell_type": "code",
   "execution_count": 7,
   "metadata": {
    "id": "ghbbR_1F5CdM"
   },
   "outputs": [],
   "source": [
    "fileRDD = sc.textFile(file,minPartitions=20)"
   ]
  },
  {
   "cell_type": "code",
   "execution_count": 8,
   "metadata": {
    "id": "zIgvzH8Xklbh"
   },
   "outputs": [],
   "source": [
    "fileRDD=fileRDD.zipWithIndex().map(lambda x:(x[1],np.array([float(y) for y in x[0].split()])))"
   ]
  },
  {
   "cell_type": "markdown",
   "metadata": {
    "id": "wIy4ISIVIPD4"
   },
   "source": [
    "**Getting the intial cluster centres. Randomly picked 10 points from the data**"
   ]
  },
  {
   "cell_type": "code",
   "execution_count": 9,
   "metadata": {
    "id": "DX-kvUg0oDp8"
   },
   "outputs": [],
   "source": [
    "initial_centroid=random.sample(range(4601),10)"
   ]
  },
  {
   "cell_type": "code",
   "execution_count": 10,
   "metadata": {
    "colab": {
     "base_uri": "https://localhost:8080/",
     "height": 35
    },
    "id": "9zRydEZhodb1",
    "outputId": "acb1fafe-2de0-4608-8e78-5bfbc7900f67"
   },
   "outputs": [
    {
     "data": {
      "text/plain": [
       "[4490, 15, 1160, 413, 78, 1846, 1649, 3063, 1135, 292]"
      ]
     },
     "execution_count": 10,
     "metadata": {
      "tags": []
     },
     "output_type": "execute_result"
    }
   ],
   "source": [
    "#Obs numbers of the initia cluster centers\n",
    "initial_centroid"
   ]
  },
  {
   "cell_type": "code",
   "execution_count": 11,
   "metadata": {
    "id": "KH6gk7RY0ufz"
   },
   "outputs": [],
   "source": [
    "#Getting the corodinates of initial centres and broadcasting the centres with the format (obsno/clusterno,data point)\n",
    "initi_centroid_centres=fileRDD.filter(lambda x:x[0] in initial_centroid)"
   ]
  },
  {
   "cell_type": "markdown",
   "metadata": {
    "id": "ZR07g8vTJO7-"
   },
   "source": [
    "**Assigning the cluster number,cost function for each obs in input file by doing 20 iterations with 10 cluster centres**"
   ]
  },
  {
   "cell_type": "code",
   "execution_count": 12,
   "metadata": {
    "id": "phYXvTDKJ6jr"
   },
   "outputs": [],
   "source": [
    "#Function to calculate the euclidean distance and assignment of datapoint to the cluster with least distance. \n",
    "# Function to calculate the euclidean distance and assignment of datapoint to the cluster with least distance. \n",
    "# Function parameters:\n",
    "# 1. x: Each line of the RDD\n",
    "# 2. n : Number of clusters\n",
    "# Function returns : \n",
    "  #temp is clusterid-obs number\n",
    "  #x[0] is obs number\n",
    "  #x[1] is coordinates \n",
    "  #costf is cst function for the datapoint\n",
    "def euc_distance_assign_cluster(x,n):\n",
    "  temp=0\n",
    "  dist=np.inf\n",
    "  for i in range(n):\n",
    "    d = np.sqrt(sum(np.square(np.subtract(x[1], centroid_centres_bd.value[i][1]))))\n",
    "    if d < dist:\n",
    "      dist = d\n",
    "      temp=centroid_centres_bd.value[i][0]\n",
    "      costf=dist**2\n",
    "  return (temp,(x[0],x[1],costf))"
   ]
  },
  {
   "cell_type": "code",
   "execution_count": 13,
   "metadata": {
    "id": "i0ta0sp8toca"
   },
   "outputs": [],
   "source": [
    "# Function to calculate the manhattan distance and assignment of datapoint to the cluster with least distance. \n",
    "# Function parameters:\n",
    "# 1. x: Each line of the RDD\n",
    "# 2. n : Number of clusters\n",
    "# Function returns : \n",
    "  #temp is clusterid-obs number\n",
    "  #x[0] is obs number\n",
    "  #x[1] is coordinates \n",
    "  #costf is cst function for the datapoint\n",
    "def man_distance_assign_cluster(x,n):\n",
    "  temp=0\n",
    "  dist=np.inf\n",
    "  for i in range(n):\n",
    "    d = np.sqrt(sum(np.absolute(np.subtract(x[1], centroid_centres_bd.value[i][1]))))\n",
    "    if d < dist:\n",
    "      dist = d\n",
    "      temp=centroid_centres_bd.value[i][0]\n",
    "      cost=dist**2\n",
    "  return (temp,(x[0],x[1],cost))"
   ]
  },
  {
   "cell_type": "markdown",
   "metadata": {
    "id": "Xt6RlKGDDQYZ"
   },
   "source": [
    "**kmeans Algorithm**"
   ]
  },
  {
   "cell_type": "code",
   "execution_count": 14,
   "metadata": {
    "id": "NYtD_3ioJ6gH"
   },
   "outputs": [],
   "source": [
    "# 20 iterations with 10 cluster loop\n",
    "# 20 iterations with 10 cluster loop\n",
    "# Function to run Kmeans algorithm\n",
    "# Function parameters: \n",
    "# 1. method = \"e\" for euclidean or \"m\" for  manhattan\n",
    "# 2. n_clus = Number of cluster :10\n",
    "# 3. n_iter = Number of iterations: 20\n",
    "# Function returns: List of cost function values for each iteration\n",
    "def kmeans(method, n_clus, n_iter):\n",
    "  cf=[]\n",
    "  method = method.lower()\n",
    "  global centroid_centres_bd\n",
    "  centroid_centres_bd=sc.broadcast(initi_centroid_centres.collect())\n",
    "  for i in range(n_iter):\n",
    "    if method == 'e':\n",
    "      assign_cluster=fileRDD.map(lambda x: euc_distance_assign_cluster(x,n_clus))\n",
    "    elif method == 'm':\n",
    "      assign_cluster=fileRDD.map(lambda x: man_distance_assign_cluster(x,n_clus))\n",
    "    cost_func=round(assign_cluster.map(lambda x:x[1][2]).sum(),2)\n",
    "    cf.append(cost_func)\n",
    "    assign_cluster=assign_cluster.map(lambda x:(x[0],x[1][1]))\n",
    "    new_clusters=assign_cluster.mapValues(lambda v: (v, 1)) \\\n",
    "      .reduceByKey(lambda a,b: (a[0]+b[0], a[1]+b[1])) \\\n",
    "      .mapValues(lambda v: v[0]/v[1])\n",
    "    new_clusters=new_clusters.map(lambda x:x[1]).zipWithIndex().map(lambda x:(x[1],x[0]))\n",
    "    centroid_centres_bd.unpersist()\n",
    "    centroid_centres_bd=sc.broadcast(new_clusters.collect())  \n",
    "  #Now, assign_cluster has 4601 observations and its correspoding cluster number after 20 iterations\n",
    "  return cf"
   ]
  },
  {
   "cell_type": "code",
   "execution_count": 23,
   "metadata": {
    "id": "ZwpCg1RQJ6av"
   },
   "outputs": [],
   "source": [
    "costs_eu = kmeans('e', 10, 20)\n",
    "km_centroids_eu=[x[1] for x in centroid_centres_bd.value]\n",
    "costs_man = kmeans('m', 10, 20)\n",
    "km_centroids_man=[x[1] for x in centroid_centres_bd.value]"
   ]
  },
  {
   "cell_type": "markdown",
   "metadata": {
    "id": "_KITMbSlDUYo"
   },
   "source": [
    "**Plotting cost functions**"
   ]
  },
  {
   "cell_type": "code",
   "execution_count": 24,
   "metadata": {
    "colab": {
     "base_uri": "https://localhost:8080/",
     "height": 295
    },
    "id": "jRzxS6iwLR3B",
    "outputId": "17576190-c3f8-4502-875d-a31e65f396bc"
   },
   "outputs": [
    {
     "data": {
      "image/png": "[encoded data removed]",
      "text/plain": [
       "<Figure size 432x288 with 1 Axes>"
      ]
     },
     "metadata": {
      "needs_background": "light",
      "tags": []
     },
     "output_type": "display_data"
    }
   ],
   "source": [
    "x = range(20)\n",
    "y = costs_eu\n",
    "z = costs_man\n",
    "\n",
    "fig, ax = plt.subplots()\n",
    "ax.plot(x,y)\n",
    "ax.plot(x,z)\n",
    "ax.set_title('K-Means Clustering Algorithm Performance')\n",
    "ax.legend(['Euclidean','Manhattan'])\n",
    "ax.xaxis.set_label_text('Number of Iterations')\n",
    "ax.yaxis.set_label_text('Value of Cost Function')\n",
    "\n",
    "plt.show()"
   ]
  },
  {
   "cell_type": "code",
   "execution_count": 25,
   "metadata": {
    "colab": {
     "base_uri": "https://localhost:8080/",
     "height": 329
    },
    "id": "ArM3T3FsokC1",
    "outputId": "f466d6fd-fc0c-4739-a332-c2726de04dc4"
   },
   "outputs": [
    {
     "data": {
      "text/plain": [
       "[<matplotlib.lines.Line2D at 0x7fabe83fbe10>]"
      ]
     },
     "execution_count": 25,
     "metadata": {
      "tags": []
     },
     "output_type": "execute_result"
    },
    {
     "data": {
      "image/png": "[encoded data removed]",
      "text/plain": [
       "<Figure size 432x288 with 1 Axes>"
      ]
     },
     "metadata": {
      "needs_background": "light",
      "tags": []
     },
     "output_type": "display_data"
    }
   ],
   "source": [
    "plt.xlabel('Number of Iterations')\n",
    "plt.ylabel('Value of Cost Function')\n",
    "plt.title('K-Means Clustering Algorithm Performance: Euclidean Distance',pad=20,fontsize=16, fontweight='bold')\n",
    "plt.plot(range(20),costs_eu)"
   ]
  },
  {
   "cell_type": "code",
   "execution_count": 26,
   "metadata": {
    "colab": {
     "base_uri": "https://localhost:8080/",
     "height": 329
    },
    "id": "TwHJM4DG7DFf",
    "outputId": "09db1a38-21aa-48cc-a9e1-800c16636cd1"
   },
   "outputs": [
    {
     "data": {
      "text/plain": [
       "[<matplotlib.lines.Line2D at 0x7fabe838fd30>]"
      ]
     },
     "execution_count": 26,
     "metadata": {
      "tags": []
     },
     "output_type": "execute_result"
    },
    {
     "data": {
      "image/png": "[encoded data removed]",
      "text/plain": [
       "<Figure size 432x288 with 1 Axes>"
      ]
     },
     "metadata": {
      "needs_background": "light",
      "tags": []
     },
     "output_type": "display_data"
    }
   ],
   "source": [
    "plt.xlabel('Number of Iterations')\n",
    "plt.ylabel('Value of Cost Function')\n",
    "plt.title('K-Means Clustering Algorithm Performance: Manhattan Distance',pad=20,fontsize=16, fontweight='bold')\n",
    "plt.plot(range(20),costs_man)"
   ]
  },
  {
   "cell_type": "markdown",
   "metadata": {
    "id": "coe6wuBuDyH4"
   },
   "source": [
    "**Calculating % of change of cost fucntions after 10 iterations**"
   ]
  },
  {
   "cell_type": "markdown",
   "metadata": {
    "id": "6xeoTj9mD61G"
   },
   "source": [
    "**#Reasoning**\n",
    "\n",
    "As the number of iterations increase, the cost function value tends to fall. The same trend is observed for both euclidean and Manhattan distance cost functions. However, when the cost function is compared for euclidean and manhattan distances, manahattan has lower cost function values than euclidean. This is because while using the euclidean distance, we are able to achieve a greater decrease in the cost function over the first few iterations when compared to using the Manhattan distance.The value of the cost function first falls and then rises before plummeting again as evident frmo the above plot. That being said, at the end of 20 iterations, the value of cost function is lower when Manhattan distances are employed than when euclidean distances are employed"
   ]
  },
  {
   "cell_type": "code",
   "execution_count": 27,
   "metadata": {
    "colab": {
     "base_uri": "https://localhost:8080/",
     "height": 35
    },
    "id": "mPlQ6lmKJ6Vw",
    "outputId": "351d03eb-9fae-4eee-830e-1f2cc2d4d672"
   },
   "outputs": [
    {
     "name": "stdout",
     "output_type": "stream",
     "text": [
      "Percentage Change of Cost fucntion after 10 iterations for Euclidean Φ: 45.89\n"
     ]
    }
   ],
   "source": [
    "per_chan_e=round(((costs_eu[0]-costs_eu[9])/costs_eu[0])*100,2)\n",
    "print(\"Percentage Change of Cost fucntion after 10 iterations for Euclidean Φ: \" + str(per_chan_e))"
   ]
  },
  {
   "cell_type": "code",
   "execution_count": 28,
   "metadata": {
    "colab": {
     "base_uri": "https://localhost:8080/",
     "height": 35
    },
    "id": "NC6Vf_JXIIIJ",
    "outputId": "6bbabd0f-e000-4e6b-ef71-d55eac911459"
   },
   "outputs": [
    {
     "name": "stdout",
     "output_type": "stream",
     "text": [
      "Percentage Change of Cost fucntion after 10 iterations for Manhattan Ψ: 22.73\n"
     ]
    }
   ],
   "source": [
    "per_chan_m=round(((costs_man[0]-costs_man[9])/costs_man[0])*100,2)\n",
    "print(\"Percentage Change of Cost fucntion after 10 iterations for Manhattan Ψ: \" + str(per_chan_m))"
   ]
  },
  {
   "cell_type": "markdown",
   "metadata": {
    "id": "nRoehYkhkRyB"
   },
   "source": [
    "**Saving the centroids into a text file**"
   ]
  },
  {
   "cell_type": "code",
   "execution_count": 29,
   "metadata": {
    "id": "P-BiommMBPcx"
   },
   "outputs": [],
   "source": [
    "with open('/content/driveXXXXXXXXXXXXXXXX/kmeans_centriods_eu.txt', \"w\") as output:\n",
    "    output.write(str(km_centroids_eu))"
   ]
  },
  {
   "cell_type": "code",
   "execution_count": 30,
   "metadata": {
    "id": "IDl3ow-djhlQ"
   },
   "outputs": [],
   "source": [
    "with open('/content/drive/XXXXXXXXXXXXXXXXXXXXXX/kmeans_centriods_man.txt', \"w\") as output:\n",
    "    output.write(str(km_centroids_man))"
   ]
  }
 ],
 "metadata": {
  "colab": {
   "collapsed_sections": [],
   "name": "kmeans_final.ipynb",
   "provenance": []
  },
  "kernelspec": {
   "display_name": "Python 3",
   "language": "python",
   "name": "python3"
  },
  "language_info": {
   "codemirror_mode": {
    "name": "ipython",
    "version": 3
   },
   "file_extension": ".py",
   "mimetype": "text/x-python",
   "name": "python",
   "nbconvert_exporter": "python",
   "pygments_lexer": "ipython3",
   "version": "3.7.4"
  }
 },
 "nbformat": 4,
 "nbformat_minor": 1
}
