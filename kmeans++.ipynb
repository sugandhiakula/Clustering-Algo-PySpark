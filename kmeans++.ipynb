{
 "cells": [
  {
   "cell_type": "code",
   "execution_count": 1,
   "metadata": {
    "id": "U34MVeOu16s3"
   },
   "outputs": [],
   "source": [
    "# Project\n",
    "# Sugandhi Akula\n",
    "# Rushya Puttam"
   ]
  },
  {
   "cell_type": "markdown",
   "metadata": {
    "id": "P4FnxVNFh7EL"
   },
   "source": [
    "Installing **pySpark** "
   ]
  },
  {
   "cell_type": "code",
   "execution_count": 2,
   "metadata": {
    "colab": {
     "base_uri": "https://localhost:8080/",
     "height": 248
    },
    "id": "yBNwiu7Nf19r",
    "outputId": "ac7848c2-5b7d-493b-bfc3-33b3c3222808"
   },
   "outputs": [
    {
     "name": "stdout",
     "output_type": "stream",
     "text": [
      "Collecting pyspark\n",
      "\u001b[?25l  Downloading https://files.pythonhosted.org/packages/f0/26/198fc8c0b98580f617cb03cb298c6056587b8f0447e20fa40c5b634ced77/pyspark-3.0.1.tar.gz (204.2MB)\n",
      "\u001b[K     |████████████████████████████████| 204.2MB 67kB/s \n",
      "\u001b[?25hCollecting py4j==0.10.9\n",
      "\u001b[?25l  Downloading https://files.pythonhosted.org/packages/9e/b6/6a4fb90cd235dc8e265a6a2067f2a2c99f0d91787f06aca4bcf7c23f3f80/py4j-0.10.9-py2.py3-none-any.whl (198kB)\n",
      "\u001b[K     |████████████████████████████████| 204kB 43.5MB/s \n",
      "\u001b[?25hBuilding wheels for collected packages: pyspark\n",
      "  Building wheel for pyspark (setup.py) ... \u001b[?25l\u001b[?25hdone\n",
      "  Created wheel for pyspark: filename=pyspark-3.0.1-py2.py3-none-any.whl size=204612243 sha256=9cf0167b2a02db2a0e2ed77b73600b8e3cbafb44918e42f99782e2d73a8ff219\n",
      "  Stored in directory: /root/.cache/pip/wheels/5e/bd/07/031766ca628adec8435bb40f0bd83bb676ce65ff4007f8e73f\n",
      "Successfully built pyspark\n",
      "Installing collected packages: py4j, pyspark\n",
      "Successfully installed py4j-0.10.9 pyspark-3.0.1\n"
     ]
    }
   ],
   "source": [
    "!pip install pyspark"
   ]
  },
  {
   "cell_type": "markdown",
   "metadata": {
    "id": "_J4_CW-dh-7Z"
   },
   "source": [
    "**Importing necessary libraries**"
   ]
  },
  {
   "cell_type": "code",
   "execution_count": 3,
   "metadata": {
    "id": "DWeDvq99f5SN"
   },
   "outputs": [],
   "source": [
    "import sys\n",
    "from pyspark import SparkContext, SparkConf\n",
    "import numpy as np\n",
    "import random\n",
    "import matplotlib.pyplot as plt\n",
    "import seaborn as sns\n",
    "import pandas as pd"
   ]
  },
  {
   "cell_type": "code",
   "execution_count": 4,
   "metadata": {
    "id": "rAJrqvEIf8CN"
   },
   "outputs": [],
   "source": [
    "sc = SparkContext(\"local\",\"PySpark k-means clustering\")"
   ]
  },
  {
   "cell_type": "code",
   "execution_count": 5,
   "metadata": {
    "id": "GUr1audaf9Zz"
   },
   "outputs": [],
   "source": [
    "# 4601 rows and 58 columns\n",
    "file = '/content/drive/XXXXXXXXXXX/Project 3/data.txt'"
   ]
  },
  {
   "cell_type": "code",
   "execution_count": 6,
   "metadata": {
    "id": "HD5DCs2Xf96q"
   },
   "outputs": [],
   "source": [
    "fileRDD = sc.textFile(file,minPartitions=20)"
   ]
  },
  {
   "cell_type": "code",
   "execution_count": 7,
   "metadata": {
    "id": "jwqaPDWGgA_X"
   },
   "outputs": [],
   "source": [
    "#Assigning a row number to each row in the data and converting the values into float and then into an array\n",
    "# key is the row number starting from 0, value is the float values of the given datapoints in an array\n",
    "fileRDD=fileRDD.zipWithIndex().map(lambda x:(x[1],np.array([float(y) for y in x[0].split()])))"
   ]
  },
  {
   "cell_type": "markdown",
   "metadata": {
    "id": "3G4e1mdynRZ2"
   },
   "source": [
    "**Generating initial 10 cluster centres**"
   ]
  },
  {
   "cell_type": "code",
   "execution_count": 8,
   "metadata": {
    "id": "-k1m3EMegFaF"
   },
   "outputs": [],
   "source": [
    "# Function:To assign nearest cluster to each data point\n",
    "# This is a step in geenrating initial centroids : 10\n",
    "# Function parameters\n",
    "# 1. x:Each line of RDD\n",
    "# Function returns : \n",
    "  #temp is clusterid-obs number\n",
    "  #dist-distance from the datapoint to its nearest cluster\n",
    "  #x[0] is obs number\n",
    "  #x[1] is coordinates \n",
    "def clust_assn(x):\n",
    "  temp=0\n",
    "  dist=np.inf\n",
    "  # Looping through all generated cluster centroids and assigning the nearest cluster centroid to each data point\n",
    "  for i in clus_bd.value:\n",
    "    d = np.square(np.sqrt(sum(np.square(np.subtract(x[1], i[1])))))\n",
    "    if d < dist:\n",
    "      dist = d\n",
    "      temp=i[0]\n",
    "  return (temp,(dist,x[0],x[1]))"
   ]
  },
  {
   "cell_type": "code",
   "execution_count": 9,
   "metadata": {
    "id": "2IWFlI37iCVH"
   },
   "outputs": [],
   "source": [
    "# Function to generate the initial 10 cluster centroids by checking for the farthest datapoints from all available centroids\n",
    "# Function parameters: \n",
    "# 1. k- Number of centroids required\n",
    "def generate_initial_centroids(k):\n",
    "  #Getting first centroid\n",
    "  #Picking a random row number\n",
    "  first_centroid=random.sample(range(fileRDD.count()),1)\n",
    "  #Getting the coordinates\n",
    "  first_centroid_cord=fileRDD.filter(lambda x:x[0] in first_centroid)\n",
    "  #Broadcasting \n",
    "  global clus_bd\n",
    "  clus_bd=sc.broadcast(first_centroid_cord.collect())\n",
    "  for i in range(k-1):\n",
    "    l = []\n",
    "    bla=fileRDD.map(lambda x:clust_assn(x))\n",
    "    next_full = bla.max(key=lambda x: x[1][0]) #Finding the point with max distance\n",
    "    next = (next_full[1][1], next_full[1][2])\n",
    "    clus_bd.value.append(next)\n",
    "    l = clus_bd.value\n",
    "    clus_bd.unpersist()\n",
    "    clus_bd = sc.broadcast(l)\n",
    "    first_centroid.append(next[0])"
   ]
  },
  {
   "cell_type": "markdown",
   "metadata": {
    "id": "Mrm8nsW8nXhI"
   },
   "source": [
    "**Calculating Euclidean, Manhattan and cost functions**"
   ]
  },
  {
   "cell_type": "code",
   "execution_count": 10,
   "metadata": {
    "id": "c1V_jLF2gNZT"
   },
   "outputs": [],
   "source": [
    "# Function to calculate the euclidean distance and assignment of datapoint to the cluster with least distance. \n",
    "# Function parameters:\n",
    "# 1. x: Each line of the RDD\n",
    "# 2. n : Number of clusters\n",
    "# Function returns : \n",
    "  #temp is clusterid-obs number\n",
    "  #x[0] is obs number\n",
    "  #x[1] is coordinates \n",
    "  #cost - cost function value for the datapoint\n",
    "def euc_distance_assign_cluster(x,n):\n",
    "  temp=0\n",
    "  dist=np.inf\n",
    "  for i in range(n):\n",
    "    d = np.sqrt(sum(np.square(np.subtract(x[1], centroid_centres_bd.value[i][1]))))\n",
    "    if d < dist:\n",
    "      dist = d\n",
    "      temp=centroid_centres_bd.value[i][0]\n",
    "      costf=dist**2\n",
    "  return (temp,(x[0],x[1],costf))"
   ]
  },
  {
   "cell_type": "code",
   "execution_count": 11,
   "metadata": {
    "id": "8vXPYAXfgTLy"
   },
   "outputs": [],
   "source": [
    "# Function to calculate the Manhattan distance and assignment of datapoint to the cluster with least distance. \n",
    "# Function parameters:\n",
    "# 1. x: Each line of the RDD\n",
    "# 2. n : Number of clusters\n",
    "# Function returns : \n",
    "  # temp is clusterid-obs number\n",
    "  # x[0] is obs number\n",
    "  # x[1] is coordinates \n",
    "  #cost - cost function value for the datapoint\n",
    "def man_distance_assign_cluster(x,n):\n",
    "  temp=0\n",
    "  dist=np.inf\n",
    "  for i in range(n):\n",
    "    d = np.sqrt(sum(np.absolute(np.subtract(x[1], centroid_centres_bd.value[i][1]))))\n",
    "    if d < dist:\n",
    "      dist = d\n",
    "      temp=centroid_centres_bd.value[i][0]\n",
    "      cost=dist**2\n",
    "  return (temp,(x[0],x[1],cost))"
   ]
  },
  {
   "cell_type": "markdown",
   "metadata": {
    "id": "r3BHcpqYnkgw"
   },
   "source": [
    "**Kmeans++ Algorithm**"
   ]
  },
  {
   "cell_type": "code",
   "execution_count": 12,
   "metadata": {
    "id": "FWi84vjHgLvZ"
   },
   "outputs": [],
   "source": [
    "# 20 iterations with 10 cluster loop\n",
    "# Function to run Kmeans++ algorithm\n",
    "# Function parameters: \n",
    "# 1. method = \"e\" for euclidean or \"m\" for  manhattan\n",
    "# 2. n_clus = Number of cluster :10\n",
    "# 3. n_iter = Number of iterations: 20\n",
    "# Function returns: List of cost function values for each iteration\n",
    "def kmeansplus(method, n_clus, n_iter):\n",
    "  generate_initial_centroids(n_clus)\n",
    "  cf=[]\n",
    "  method = method.lower()\n",
    "  global centroid_centres_bd\n",
    "  centroid_centres_bd=sc.broadcast(clus_bd.value)\n",
    "  for i in range(n_iter):\n",
    "    if method == 'e':\n",
    "      assign_cluster=fileRDD.map(lambda x: euc_distance_assign_cluster(x,n_clus))\n",
    "    elif method == 'm':\n",
    "      assign_cluster=fileRDD.map(lambda x: man_distance_assign_cluster(x,n_clus))\n",
    "    cost_func=round(assign_cluster.map(lambda x:x[1][2]).sum(),2)\n",
    "    cf.append(cost_func)\n",
    "    assign_cluster=assign_cluster.map(lambda x:(x[0],x[1][1]))\n",
    "    new_clusters=assign_cluster.mapValues(lambda v: (v, 1)) \\\n",
    "      .reduceByKey(lambda a,b: (a[0]+b[0], a[1]+b[1])) \\\n",
    "      .mapValues(lambda v: v[0]/v[1])\n",
    "    new_clusters=new_clusters.map(lambda x:x[1]).zipWithIndex().map(lambda x:(x[1],x[0]))\n",
    "    centroid_centres_bd.unpersist()\n",
    "    centroid_centres_bd=sc.broadcast(new_clusters.collect())  \n",
    "  #Now, assign_cluster has 4601 observations and its correspoding cluster number after 20 iterations\n",
    "  return cf"
   ]
  },
  {
   "cell_type": "code",
   "execution_count": 16,
   "metadata": {
    "id": "wYemn2gEgaub"
   },
   "outputs": [],
   "source": [
    "costs_eu = kmeansplus('e', 10, 20)\n",
    "kmpp_centroids_eu=[x[1] for x in centroid_centres_bd.value]\n",
    "costs_man = kmeansplus('m', 10, 20)\n",
    "kmpp_centroids_man=[x[1] for x in centroid_centres_bd.value]"
   ]
  },
  {
   "cell_type": "code",
   "execution_count": 17,
   "metadata": {
    "colab": {
     "base_uri": "https://localhost:8080/",
     "height": 35
    },
    "id": "NN-FPiI37OOJ",
    "outputId": "24bb479b-1c02-48e4-9eb1-b7ddc5dc3ec4"
   },
   "outputs": [
    {
     "data": {
      "text/plain": [
       "90170771.49"
      ]
     },
     "execution_count": 17,
     "metadata": {
      "tags": []
     },
     "output_type": "execute_result"
    }
   ],
   "source": [
    "# Cost function for iteration 20 with Euclidean distance\n",
    "costs_eu[19]"
   ]
  },
  {
   "cell_type": "code",
   "execution_count": 18,
   "metadata": {
    "colab": {
     "base_uri": "https://localhost:8080/",
     "height": 35
    },
    "id": "Q2x7Q1YR7Q6n",
    "outputId": "6cad03ab-6bee-4a05-802d-00bb64d7be94"
   },
   "outputs": [
    {
     "data": {
      "text/plain": [
       "677345.74"
      ]
     },
     "execution_count": 18,
     "metadata": {
      "tags": []
     },
     "output_type": "execute_result"
    }
   ],
   "source": [
    "# Cost function for iteration 20 with Manhattan distance\n",
    "costs_man[19]"
   ]
  },
  {
   "cell_type": "markdown",
   "metadata": {
    "id": "PLtgvMmcT5c5"
   },
   "source": [
    "**Saving the final cluster centres into a text file**"
   ]
  },
  {
   "cell_type": "code",
   "execution_count": 19,
   "metadata": {
    "id": "AyZQCssJkic_"
   },
   "outputs": [],
   "source": [
    "with open('/content/drive/XXXXXXXXXXXXXXX/kmeans++_centriods_eu.txt', \"w\") as output:\n",
    "    output.write(str(kmpp_centroids_eu))"
   ]
  },
  {
   "cell_type": "code",
   "execution_count": 20,
   "metadata": {
    "id": "8Rtt4_qb_403"
   },
   "outputs": [],
   "source": [
    "with open('/content/driveXXXXXXXXXXXXXXXXXXXXX/kmeans++_centriods_man.txt', \"w\") as output:\n",
    "    output.write(str(kmpp_centroids_man))"
   ]
  },
  {
   "cell_type": "markdown",
   "metadata": {
    "id": "r--O0pKQnqU2"
   },
   "source": [
    "**Plotting cost functions**"
   ]
  },
  {
   "cell_type": "code",
   "execution_count": 21,
   "metadata": {
    "colab": {
     "base_uri": "https://localhost:8080/",
     "height": 329
    },
    "id": "7IdbJB6Ygf6p",
    "outputId": "4a06b3f4-47ca-4c8b-911c-e83c19a76731"
   },
   "outputs": [
    {
     "data": {
      "text/plain": [
       "[<matplotlib.lines.Line2D at 0x7fc7cb3cb668>]"
      ]
     },
     "execution_count": 21,
     "metadata": {
      "tags": []
     },
     "output_type": "execute_result"
    },
    {
     "data": {
      "image/png": "[encoded data removed]",
      "text/plain": [
       "<Figure size 432x288 with 1 Axes>"
      ]
     },
     "metadata": {
      "needs_background": "light",
      "tags": []
     },
     "output_type": "display_data"
    }
   ],
   "source": [
    "plt.xlabel('Number of Iterations')\n",
    "plt.ylabel('Value of Cost Function')\n",
    "plt.title('K-Means++ Clustering Algorithm Performance: Euclidean Distance',pad=20,fontsize=16, fontweight='bold')\n",
    "plt.plot(range(20),costs_eu)"
   ]
  },
  {
   "cell_type": "code",
   "execution_count": 22,
   "metadata": {
    "colab": {
     "base_uri": "https://localhost:8080/",
     "height": 329
    },
    "id": "keXUPZPlgk5c",
    "outputId": "7d98fcd5-11f6-4793-8f25-384a073b6a14"
   },
   "outputs": [
    {
     "data": {
      "text/plain": [
       "[<matplotlib.lines.Line2D at 0x7fc7ca2acd68>]"
      ]
     },
     "execution_count": 22,
     "metadata": {
      "tags": []
     },
     "output_type": "execute_result"
    },
    {
     "data": {
      "image/png": "[encoded data removed]",
      "text/plain": [
       "<Figure size 432x288 with 1 Axes>"
      ]
     },
     "metadata": {
      "needs_background": "light",
      "tags": []
     },
     "output_type": "display_data"
    }
   ],
   "source": [
    "plt.xlabel('Number of Iterations')\n",
    "plt.ylabel('Value of Cost Function')\n",
    "#plt.suptitle('Cost function Φ vs Number of iterations', fontsize=8)\n",
    "plt.title('K-Means++ Clustering Algorithm Performance: Manhattan Distance',pad=20, fontsize=16, fontweight='bold')\n",
    "plt.plot(range(20),costs_man)"
   ]
  },
  {
   "cell_type": "code",
   "execution_count": 23,
   "metadata": {
    "colab": {
     "base_uri": "https://localhost:8080/",
     "height": 338
    },
    "id": "gZvPF6pXusK_",
    "outputId": "611629f6-4f11-4726-eb61-d4d5ed9a9ff5"
   },
   "outputs": [
    {
     "data": {
      "text/plain": [
       "Text(0.5, 1.0, 'Comparision of Euclidean and Manhattan distance cost functions for Kmeans++ fucntion')"
      ]
     },
     "execution_count": 23,
     "metadata": {
      "tags": []
     },
     "output_type": "execute_result"
    },
    {
     "data": {
      "image/png": "[encoded data removed]",
      "text/plain": [
       "<Figure size 432x288 with 1 Axes>"
      ]
     },
     "metadata": {
      "needs_background": "light",
      "tags": []
     },
     "output_type": "display_data"
    }
   ],
   "source": [
    "df = pd.DataFrame({\"Iterations\":range(20), \"costs_eu\":costs_eu, \"costs_man\":costs_man})\n",
    "plt.plot(df[\"Iterations\"], df[\"costs_eu\"])\n",
    "plt.plot(df[\"Iterations\"], df[\"costs_man\"])\n",
    "plt.xlabel('Number of Iterations')\n",
    "plt.ylabel('Value of Cost Function')\n",
    "plt.title(\"Comparision of Euclidean and Manhattan distance cost functions for Kmeans++ fucntion\", fontsize=16,pad=30)"
   ]
  },
  {
   "cell_type": "markdown",
   "metadata": {
    "id": "BbMo9m_otYM7"
   },
   "source": [
    "**Calculating % change of cost functions after 10 iterations**"
   ]
  },
  {
   "cell_type": "markdown",
   "metadata": {
    "id": "dvwqdRGDzSLJ"
   },
   "source": [
    "**#Reasoning**\n",
    "\n",
    "As the number of iterations increase, the cost function value tends to fall. The same trend is observed for both euclidean and Manhattan distance cost functions. However, when the cost function is compared for euclidean and manhattan distances, manahattan has lower cost function values than euclidean. This is because while using the euclidean distance, we are able to achieve a greater decrease in the cost function over the first few iterations when compared to using the Manhattan distance.That being said, at the end of 20 iterations, the value of cost function is lower when Manhattan distances are employed than when euclidean distances are employed"
   ]
  },
  {
   "cell_type": "code",
   "execution_count": 24,
   "metadata": {
    "colab": {
     "base_uri": "https://localhost:8080/",
     "height": 35
    },
    "id": "kVmpkK80tR-x",
    "outputId": "b38e29d5-e749-46aa-f4a2-232eaa57f3c3"
   },
   "outputs": [
    {
     "name": "stdout",
     "output_type": "stream",
     "text": [
      "Percentage Change of Cost fucntion after 10 iterations for Euclidean Φ: 76.41\n"
     ]
    }
   ],
   "source": [
    "per_chan_e=round(((costs_eu[0]-costs_eu[9])/costs_eu[0])*100,2)\n",
    "print(\"Percentage Change of Cost fucntion after 10 iterations for Euclidean Φ: \" + str(per_chan_e))"
   ]
  },
  {
   "cell_type": "code",
   "execution_count": 25,
   "metadata": {
    "colab": {
     "base_uri": "https://localhost:8080/",
     "height": 35
    },
    "id": "YBOZAlv3tTn_",
    "outputId": "c3a65581-1520-4c51-e18e-3212aa935c8d"
   },
   "outputs": [
    {
     "name": "stdout",
     "output_type": "stream",
     "text": [
      "Percentage Change of Cost fucntion after 10 iterations for Manhattan Ψ: 45.79\n"
     ]
    }
   ],
   "source": [
    "per_chan_m=round(((costs_man[0]-costs_man[9])/costs_man[0])*100,2)\n",
    "print(\"Percentage Change of Cost fucntion after 10 iterations for Manhattan Ψ: \" + str(per_chan_m))"
   ]
  },
  {
   "cell_type": "markdown",
   "metadata": {
    "id": "GC_rqQ5TBtcQ"
   },
   "source": [
    "# Comparision of kmeans and kmeans++"
   ]
  },
  {
   "cell_type": "markdown",
   "metadata": {
    "id": "Iv1sit3YFjh-"
   },
   "source": [
    "For comparing these two algorithms, the cost fucntion vs number of iterations plots are observed for both euclidean and manhattan distances. For kmeans, the starting point of cost fucntion  is lower than the kmeans++. But, the end point value of cost function is higher than the kmeans++. This indicates for kmeans++ although it starts off at a higher cost function, convergence is achieved soon with smallest value of cost function compared to kmeans. This proves that kmeans++ may be the most efficient clustering algorithm of the two."
   ]
  }
 ],
 "metadata": {
  "colab": {
   "collapsed_sections": [],
   "name": "kmeans++_final.ipynb",
   "provenance": []
  },
  "kernelspec": {
   "display_name": "Python 3",
   "language": "python",
   "name": "python3"
  },
  "language_info": {
   "codemirror_mode": {
    "name": "ipython",
    "version": 3
   },
   "file_extension": ".py",
   "mimetype": "text/x-python",
   "name": "python",
   "nbconvert_exporter": "python",
   "pygments_lexer": "ipython3",
   "version": "3.7.4"
  }
 },
 "nbformat": 4,
 "nbformat_minor": 1
}
